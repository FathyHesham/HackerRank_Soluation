{
 "cells": [
  {
   "cell_type": "markdown",
   "metadata": {},
   "source": [
    "# 001 - Say \"Hello, World!\" With Python\n",
    "## Problem\n",
    "\n",
    "Here is a sample line of code that can be executed in Python:\n",
    "\n",
    "```python\n",
    "print(\"Hello, World!\")\n",
    "```\n",
    "\n",
    "You can just as easily store a string as a variable and then print it to stdout:\n",
    "\n",
    "```python\n",
    "my_string = \"Hello, World!\"\n",
    "print(my_string)\n",
    "```\n",
    "\n",
    "The above code will print `Hello, World!` on your screen.\n",
    "\n",
    "***Input Format***\n",
    "\n",
    "You do not need to read any input in this challenge.\n",
    "\n",
    "***Output Format***\n",
    "\n",
    "Print `Hello, World!` to stdout.\n",
    "\n",
    "***Sample Output 0***\n",
    "\n",
    "```\n",
    "Hello, World!\n",
    "```"
   ]
  },
  {
   "cell_type": "code",
   "execution_count": 1,
   "metadata": {},
   "outputs": [
    {
     "name": "stdout",
     "output_type": "stream",
     "text": [
      "Hello, World!\n"
     ]
    }
   ],
   "source": [
    "print(\"Hello, World!\")"
   ]
  }
 ],
 "metadata": {
  "kernelspec": {
   "display_name": "base",
   "language": "python",
   "name": "python3"
  },
  "language_info": {
   "codemirror_mode": {
    "name": "ipython",
    "version": 3
   },
   "file_extension": ".py",
   "mimetype": "text/x-python",
   "name": "python",
   "nbconvert_exporter": "python",
   "pygments_lexer": "ipython3",
   "version": "3.11.7"
  }
 },
 "nbformat": 4,
 "nbformat_minor": 2
}
