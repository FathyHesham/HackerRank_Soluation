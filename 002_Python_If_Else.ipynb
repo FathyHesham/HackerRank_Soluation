{
 "cells": [
  {
   "cell_type": "markdown",
   "metadata": {},
   "source": [
    "# 002 - Python If-Else\n",
    "## Problem\n",
    "\n",
    "Given an integer, `n`, perform the following conditional actions:\n",
    "\n",
    "- If `n` is odd, print `Weird`\n",
    "- If `n` is even and in the inclusive range of 2 to 5, print `Not Weird`\n",
    "- If `n` is even and in the inclusive range of 6 to 20, print `Weird`\n",
    "- If `n` is even and greater than 20, print `Not Weird`\n",
    "\n",
    "#### Input Format\n",
    "A single line containing a positive integer, `n`.\n",
    "\n",
    "#### Constraints\n",
    "1 <= n <= 100\n",
    "\n",
    "#### Output Format\n",
    "Print `Weird\u001d` if the number is weird; otherwise, print `Not Weird`.\n",
    "\n",
    "```\n",
    "Sample Inputs\n",
    "3\n",
    "24\n",
    "```\n",
    "\n",
    "```\n",
    "Sample Output\n",
    "Weird\n",
    "Not Weird\n",
    "```\n",
    "\n",
    "#### Given Code\n",
    "\n",
    "```python\n",
    "if __name__ == '__main__':\n",
    "    n = int(input().strip())\n",
    "```"
   ]
  },
  {
   "cell_type": "code",
   "execution_count": 5,
   "metadata": {},
   "outputs": [
    {
     "name": "stdout",
     "output_type": "stream",
     "text": [
      "Not Weird\n"
     ]
    }
   ],
   "source": [
    "value = int(input())\n",
    "\n",
    "if value % 2 != 0:\n",
    "    print(\"Weird\")\n",
    "else:\n",
    "    if value in range(2, 5):\n",
    "        print(\"Not Weird\")\n",
    "    elif value in range(6, 21):\n",
    "        print(\"Weird\")\n",
    "    elif value > 20:\n",
    "        print(\"Not Weird\")"
   ]
  }
 ],
 "metadata": {
  "kernelspec": {
   "display_name": "base",
   "language": "python",
   "name": "python3"
  },
  "language_info": {
   "codemirror_mode": {
    "name": "ipython",
    "version": 3
   },
   "file_extension": ".py",
   "mimetype": "text/x-python",
   "name": "python",
   "nbconvert_exporter": "python",
   "pygments_lexer": "ipython3",
   "version": "3.11.7"
  }
 },
 "nbformat": 4,
 "nbformat_minor": 2
}
