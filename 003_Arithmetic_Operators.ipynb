{
 "cells": [
  {
   "cell_type": "code",
   "execution_count": null,
   "metadata": {},
   "outputs": [],
   "source": []
  },
  {
   "cell_type": "markdown",
   "metadata": {},
   "source": [
    "# 003 - Arithmetic Operators\n",
    "## Task\n",
    "\n",
    "Read two integers from STDIN and print three lines where:\n",
    "\n",
    "1. The first line contains the sum of the two numbers.\n",
    "2. The second line contains the difference of the two numbers (first - second).\n",
    "3. The third line contains the product of the two numbers.\n",
    "\n",
    "#### Input Format\n",
    "The first line contains the first integer, `a` . The second line contains the second integer,`b` .\n",
    "\n",
    "#### Constraints\n",
    "* 1 <= a <= 10<sup>10</sup>\n",
    "\n",
    "* 1 <= b <= 10<sup>10</sup>\n",
    "\n",
    "#### Output Format\n",
    "Print the three lines as explained above.\n",
    "\n",
    "```\n",
    "Sample Inputs\n",
    "3\n",
    "2\n",
    "```\n",
    "\n",
    "```\n",
    "Sample Output\n",
    "5\n",
    "1\n",
    "6\n",
    "```\n",
    "\n",
    "#### Explanation\n",
    "\n",
    "3 + 2 => 5\n",
    "3 - 2 => 1\n",
    "3 * 2 => 6\n",
    "\n",
    "\n",
    "#### Given Code\n",
    "\n",
    "```python\n",
    "if __name__ == '__main__':\n",
    "    a = int(input())\n",
    "    b = int(input())\n",
    "```"
   ]
  },
  {
   "cell_type": "code",
   "execution_count": 1,
   "metadata": {},
   "outputs": [
    {
     "name": "stdout",
     "output_type": "stream",
     "text": [
      "15\n",
      "-5\n",
      "50\n"
     ]
    }
   ],
   "source": [
    "''' Solution 1 '''\n",
    "\n",
    "if __name__ == '__main__':\n",
    "    a = int(input())\n",
    "    b = int(input())\n",
    "\n",
    "    print(a + b)\n",
    "    print(a - b)\n",
    "    print(a * b)"
   ]
  },
  {
   "cell_type": "code",
   "execution_count": 3,
   "metadata": {},
   "outputs": [
    {
     "name": "stdout",
     "output_type": "stream",
     "text": [
      "15\n",
      "-5\n",
      "50\n"
     ]
    }
   ],
   "source": [
    "''' Solution 2 '''\n",
    "\n",
    "if __name__ == '__main__':\n",
    "    a = int(input())\n",
    "    b = int(input())\n",
    "\n",
    "    def add_two(x,y):\n",
    "        return x + y\n",
    "\n",
    "    def ext_two(x,y):\n",
    "        return x - y\n",
    "\n",
    "    def mul_two(x,y):\n",
    "        return x * y\n",
    "\n",
    "    print(add_two(a,b))\n",
    "    print(ext_two(a,b))\n",
    "    print(mul_two(a,b))"
   ]
  }
 ],
 "metadata": {
  "kernelspec": {
   "display_name": "base",
   "language": "python",
   "name": "python3"
  },
  "language_info": {
   "codemirror_mode": {
    "name": "ipython",
    "version": 3
   },
   "file_extension": ".py",
   "mimetype": "text/x-python",
   "name": "python",
   "nbconvert_exporter": "python",
   "pygments_lexer": "ipython3",
   "version": "3.11.7"
  }
 },
 "nbformat": 4,
 "nbformat_minor": 2
}
