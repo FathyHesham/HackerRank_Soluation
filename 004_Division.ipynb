{
 "cells": [
  {
   "cell_type": "markdown",
   "metadata": {},
   "source": [
    "# 004 - Division\n",
    "## Task\n",
    "Read two integers and print two lines. The first line should contain integer division,  `a` // `b` . The second line should contain float division,  `a`/`b` .\n",
    "\n",
    "You don't need to perform any rounding or formatting operations.\n",
    "\n",
    "#### Input Format\n",
    "\n",
    "The first line contains the first integer, `a`. The second line contains the second integer, `b`.\n",
    "\n",
    "\n",
    "#### Output Format\n",
    "\n",
    "Print the two lines as described above.\n",
    "\n",
    "```\n",
    "Sample Input :\n",
    "4\n",
    "3\n",
    "```\n",
    "\n",
    "```\n",
    "Sample Output :\n",
    "1\n",
    "1.33333333333\n",
    "```\n",
    "\n",
    "#### Given Code\n",
    "\n",
    "```python\n",
    "if __name__ == '__main__':\n",
    "    a = int(input())\n",
    "    b = int(input())\n",
    "```"
   ]
  },
  {
   "cell_type": "code",
   "execution_count": 2,
   "metadata": {},
   "outputs": [
    {
     "name": "stdout",
     "output_type": "stream",
     "text": [
      "2\n",
      "2.0\n"
     ]
    }
   ],
   "source": [
    "''' Solution 1 '''\n",
    "\n",
    "if __name__ == '__main__':\n",
    "    a = int(input())\n",
    "    b = int(input())\n",
    "\n",
    "    print(int(a / b))\n",
    "    print(float(a // b))"
   ]
  },
  {
   "cell_type": "code",
   "execution_count": 3,
   "metadata": {},
   "outputs": [
    {
     "name": "stdout",
     "output_type": "stream",
     "text": [
      "2\n",
      "2.0\n"
     ]
    }
   ],
   "source": [
    "''' Solution 2 '''\n",
    "\n",
    "if __name__ == '__main__':\n",
    "    a = int(input())\n",
    "    b = int(input())\n",
    "\n",
    "    def division_int(x,y):\n",
    "        return x // y\n",
    "\n",
    "    def division_flt(x,y):\n",
    "        return x / y\n",
    "\n",
    "    print(division_int(a,b))\n",
    "    print(division_flt(a,b))"
   ]
  }
 ],
 "metadata": {
  "kernelspec": {
   "display_name": "base",
   "language": "python",
   "name": "python3"
  },
  "language_info": {
   "codemirror_mode": {
    "name": "ipython",
    "version": 3
   },
   "file_extension": ".py",
   "mimetype": "text/x-python",
   "name": "python",
   "nbconvert_exporter": "python",
   "pygments_lexer": "ipython3",
   "version": "3.11.7"
  }
 },
 "nbformat": 4,
 "nbformat_minor": 2
}
