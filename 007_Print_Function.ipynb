{
 "cells": [
  {
   "cell_type": "markdown",
   "metadata": {},
   "source": [
    "# 007 - Print Function\n",
    "## Task\n",
    "Read an integer `N` .\n",
    "\n",
    "Without using any string methods, try to print the following:\n",
    "`123...N`\n",
    "\n",
    "Note that \"...\" represents the values in between.\n",
    "\n",
    "#### Input Format\n",
    "\n",
    "The first line contains an integer `N`.\n",
    "\n",
    "\n",
    "#### Output Format\n",
    "\n",
    "Output the answer as explained in the task.\n",
    "\n",
    "```\n",
    "Sample Input :\n",
    "3\n",
    "```\n",
    "\n",
    "```\n",
    "Sample Output :\n",
    "123\n",
    "```\n",
    "\n",
    "\n",
    "#### Given Code\n",
    "\n",
    "```python\n",
    "if __name__ == '__main__':\n",
    "    n = int(input())\n",
    "```"
   ]
  },
  {
   "cell_type": "code",
   "execution_count": 1,
   "metadata": {},
   "outputs": [
    {
     "name": "stdout",
     "output_type": "stream",
     "text": [
      "12345\n"
     ]
    }
   ],
   "source": [
    "''' Solution 1 '''\n",
    "\n",
    "if __name__ == '__main__':\n",
    "    n = int(input())\n",
    "    print(*range(1, n + 1), sep=\"\")"
   ]
  },
  {
   "cell_type": "code",
   "execution_count": 3,
   "metadata": {},
   "outputs": [
    {
     "name": "stdout",
     "output_type": "stream",
     "text": [
      "12345\n"
     ]
    }
   ],
   "source": [
    "''' Solution 2 '''\n",
    "\n",
    "if __name__ == '__main__':\n",
    "    n = int(input())\n",
    "    lst = [x for x in range(1,n+1)]\n",
    "    print(*lst, sep=\"\")"
   ]
  },
  {
   "cell_type": "code",
   "execution_count": 5,
   "metadata": {},
   "outputs": [
    {
     "name": "stdout",
     "output_type": "stream",
     "text": [
      "12345\n"
     ]
    }
   ],
   "source": [
    "''' Solution 3 '''\n",
    "\n",
    "if __name__ == '__main__':\n",
    "    n = int(input())\n",
    "    lst = \"\"\n",
    "    for num in range(1, n+1):\n",
    "      lst += str(num)\n",
    "    print(lst)"
   ]
  },
  {
   "cell_type": "code",
   "execution_count": 6,
   "metadata": {},
   "outputs": [
    {
     "name": "stdout",
     "output_type": "stream",
     "text": [
      "12345\n"
     ]
    }
   ],
   "source": [
    "''' Solution 4 '''\n",
    "\n",
    "if __name__ == '__main__':\n",
    "    n = int(input())\n",
    "    print(\"\".join([str(x) for x in range(1,n+1)]))"
   ]
  },
  {
   "cell_type": "code",
   "execution_count": 7,
   "metadata": {},
   "outputs": [
    {
     "name": "stdout",
     "output_type": "stream",
     "text": [
      "12345\n"
     ]
    }
   ],
   "source": [
    "''' Solution 5 '''\n",
    "\n",
    "if __name__ == '__main__':\n",
    "    n = int(input())\n",
    "    lst = []\n",
    "    for num in range(1, n+1):\n",
    "      lst.append(str(num))\n",
    "    print(\"\".join(lst))"
   ]
  }
 ],
 "metadata": {
  "kernelspec": {
   "display_name": "base",
   "language": "python",
   "name": "python3"
  },
  "language_info": {
   "codemirror_mode": {
    "name": "ipython",
    "version": 3
   },
   "file_extension": ".py",
   "mimetype": "text/x-python",
   "name": "python",
   "nbconvert_exporter": "python",
   "pygments_lexer": "ipython3",
   "version": "3.11.7"
  }
 },
 "nbformat": 4,
 "nbformat_minor": 2
}
