{
 "cells": [
  {
   "cell_type": "markdown",
   "metadata": {},
   "source": [
    "# 009 - Find the Runner-Up Score\n",
    "## Problem\n",
    "Given the participants' score sheet for your University Sports Day, you are required to find the runner-up `n` score. You are given  scores. Store them in a list and find the score of the runner-up.\n",
    "\n",
    "\n",
    "#### Input Format\n",
    "The first line contains `n`. The second line contains an array `A[]`  of `n` integers each separated by a space.\n",
    "\n",
    "\n",
    "#### Constraints\n",
    "2 <= n <= 10\n",
    "-100 <= A[i] <= 100\n",
    "\n",
    "#### Output Format\n",
    "Print the runner-up score.\n",
    "\n",
    "```\n",
    "Sample Input :\n",
    "5\n",
    "2 3 6 6 5\n",
    "```\n",
    "```\n",
    "Sample Output :\n",
    "5\n",
    "```\n",
    "#### Explanation\n",
    "Given list is `[2,3,6,6,5]`. The maximum score is 6, second maximum is 5. Hence, we print 5 as the runner-up score.\n",
    "\n",
    "#### Given Code\n",
    "\n",
    "```python\n",
    "if __name__ == '__main__':\n",
    "    n = int(input())\n",
    "    arr = map(int, input().split())\n",
    "```"
   ]
  },
  {
   "cell_type": "code",
   "execution_count": 1,
   "metadata": {},
   "outputs": [
    {
     "name": "stdout",
     "output_type": "stream",
     "text": [
      "5\n"
     ]
    }
   ],
   "source": [
    "'''\n",
    "    1- array = [2 3 6 6 5]    input user\n",
    "    2- convert this array to set\n",
    "    3- make reverse of my set\n",
    "    4- print the second element\n",
    "'''\n",
    "\n",
    "'''\n",
    "    1- array = [2 3 6 6 5]\n",
    "    2- convert this array to list \n",
    "    3- create new list\n",
    "    4- set step \"split two part\"\n",
    "        1- for loop to filter duplicate this list \n",
    "        2- sorted this list and make reverse\n",
    "    5- print second element\n",
    "'''\n",
    "\n",
    "if __name__ == '__main__':\n",
    "    n = int(input())\n",
    "    arr = map(int, input().split())\n",
    "    mySet = set(arr)\n",
    "    sort = sorted(mySet, reverse=True)\n",
    "    print(sort[1])\n"
   ]
  }
 ],
 "metadata": {
  "kernelspec": {
   "display_name": "base",
   "language": "python",
   "name": "python3"
  },
  "language_info": {
   "codemirror_mode": {
    "name": "ipython",
    "version": 3
   },
   "file_extension": ".py",
   "mimetype": "text/x-python",
   "name": "python",
   "nbconvert_exporter": "python",
   "pygments_lexer": "ipython3",
   "version": "3.11.7"
  }
 },
 "nbformat": 4,
 "nbformat_minor": 2
}
