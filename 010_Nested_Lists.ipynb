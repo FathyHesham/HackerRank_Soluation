{
 "cells": [
  {
   "cell_type": "markdown",
   "metadata": {},
   "source": [
    "# 010 - Nested Lists\n",
    "## Problem\n",
    "Given the names and grades for each student in a Physics class of `N` students, store them in a nested list and print the name(s) of any student(s) having the second lowest grade.\n",
    "\n",
    "**Note**: If there are multiple students with the same grade, order their names alphabetically and print each name on a new line.\n",
    "\n",
    "#### Input Format\n",
    "\n",
    "The first line contains an integer, `N`, the number of students.\n",
    "\n",
    "The `2N` subsequent lines describe each student over `N` lines; the first line contains a student's name, and the second line contains their grade.\n",
    "\n",
    "\n",
    "#### Constraints\n",
    "2 <= N <= 5\n",
    "\n",
    "There will always be one or more students having the second lowest grade.\n",
    "\n",
    "#### Output Format\n",
    "\n",
    "Print the name(s) of any student(s) having the second lowest grade in Physics; if there are multiple students, order their names alphabetically and print each one on a new line.\n",
    "\n",
    "```\n",
    "Sample Input :\n",
    "5\n",
    "Harry\n",
    "37.21\n",
    "Berry\n",
    "37.21\n",
    "Tina\n",
    "37.2\n",
    "Akriti\n",
    "41\n",
    "Harsh\n",
    "39\n",
    "```\n",
    "\n",
    "```\n",
    "Sample Output :\n",
    "Berry\n",
    "Harry\n",
    "```\n",
    "\n",
    "#### Explanation\n",
    "There are 5 students in this class whose names and grades are assembled to build the following list:\n",
    "\n",
    "`python students = [['Harry', 37.21], ['Berry', 37.21], ['Tina', 37.2], ['Akriti', 41], ['Harsh', 39]]`\n",
    "\n",
    "The lowest grade of 37.2 belongs to Tina. The second lowest grade of 37.21 belongs to both Harry and Berry, so we order their names alphabetically and print each name on a new line.\n",
    "\n",
    "\n",
    "#### Given Code\n",
    "\n",
    "```python\n",
    "if __name__ == '__main__':\n",
    "    for _ in range(int(input())):\n",
    "        name = input()\n",
    "        score = float(input())\n",
    "        \n",
    "```"
   ]
  },
  {
   "cell_type": "code",
   "execution_count": 1,
   "metadata": {},
   "outputs": [
    {
     "name": "stdout",
     "output_type": "stream",
     "text": [
      "Berry\n",
      "Harry\n"
     ]
    }
   ],
   "source": [
    "if __name__ == '__main__':\n",
    "    studentList = []\n",
    "    for _ in range(int(input())):\n",
    "        name = input()\n",
    "        score = float(input())\n",
    "        studentList.append([name, score])\n",
    "    \n",
    "    minScore = min(studentList, key = lambda x: x[1])\n",
    "    nonLowest = sorted([student for student in studentList if student[1] > minScore[1]], key = lambda x: x[1])\n",
    "    secondScore = sorted([student[0] for student in nonLowest if student[1] == nonLowest[0][1]])\n",
    "\n",
    "    for student in secondScore:\n",
    "        print(student)    "
   ]
  }
 ],
 "metadata": {
  "kernelspec": {
   "display_name": "base",
   "language": "python",
   "name": "python3"
  },
  "language_info": {
   "codemirror_mode": {
    "name": "ipython",
    "version": 3
   },
   "file_extension": ".py",
   "mimetype": "text/x-python",
   "name": "python",
   "nbconvert_exporter": "python",
   "pygments_lexer": "ipython3",
   "version": "3.11.7"
  }
 },
 "nbformat": 4,
 "nbformat_minor": 2
}
