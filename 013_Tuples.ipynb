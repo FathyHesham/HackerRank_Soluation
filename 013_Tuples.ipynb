{
 "cells": [
  {
   "cell_type": "markdown",
   "metadata": {},
   "source": [
    "# 013 - Tuples\n",
    "## Problem\n",
    "\n",
    "### Task\n",
    "\n",
    "Given an integer, `n`, and `n` space-separated integers as input, create a tuple, `t`, of those `n` integers. Then compute and print the result of `hash(t)`.\n",
    "\n",
    "**Note**: `hash()` is one of the functions in the `__builtins__` module, so it need not be imported.\n",
    "\n",
    "\n",
    "### Input Format\n",
    "\n",
    "The first line contains as integer, `n`, denoting the number of elements in the tuple.\n",
    "\n",
    "The second line contains `n` space-separated integers describing the elements in tuple `t`.\n",
    "\n",
    "\n",
    "### Output Format\n",
    "\n",
    "Print the result of `hash(t)`.\n",
    "\n",
    "\n",
    "**Sample Input 0**\n",
    "\n",
    "```\n",
    "2\n",
    "1 2\n",
    "```\n",
    "\n",
    "**Sample Output 0**\n",
    "\n",
    "```\n",
    "3713081631934410656\n",
    "```"
   ]
  },
  {
   "cell_type": "markdown",
   "metadata": {},
   "source": [
    "# Important : using Pypy3"
   ]
  },
  {
   "cell_type": "code",
   "execution_count": 25,
   "metadata": {},
   "outputs": [
    {
     "name": "stdout",
     "output_type": "stream",
     "text": [
      "-3550055125485641917\n"
     ]
    }
   ],
   "source": [
    "number_oper = int(input())\n",
    "print(hash(tuple(map(int, input().split(\" \")))))"
   ]
  },
  {
   "cell_type": "code",
   "execution_count": 22,
   "metadata": {},
   "outputs": [
    {
     "name": "stdout",
     "output_type": "stream",
     "text": [
      "-3550055125485641917\n"
     ]
    }
   ],
   "source": [
    "if __name__ == \"__main__\":\n",
    "   \n",
    "   my_list = list()\n",
    "   number_oper = int(input())\n",
    "   \n",
    "   value = input().split(\" \")\n",
    "   for i in value:\n",
    "      my_list.append(int(i))\n",
    "   \n",
    "   print(hash(tuple(my_list)))"
   ]
  },
  {
   "cell_type": "code",
   "execution_count": 30,
   "metadata": {},
   "outputs": [
    {
     "name": "stdout",
     "output_type": "stream",
     "text": [
      "-3550055125485641917\n"
     ]
    }
   ],
   "source": [
    "if __name__ == \"__main__\":\n",
    "   \n",
    "   my_list = list()\n",
    "   number_oper = int(input())\n",
    "   \n",
    "   for i in range(number_oper):\n",
    "      value = input()\n",
    "      my_list.append(int(value))\n",
    "   \n",
    "   print(hash(tuple(my_list)))"
   ]
  }
 ],
 "metadata": {
  "kernelspec": {
   "display_name": "base",
   "language": "python",
   "name": "python3"
  },
  "language_info": {
   "codemirror_mode": {
    "name": "ipython",
    "version": 3
   },
   "file_extension": ".py",
   "mimetype": "text/x-python",
   "name": "python",
   "nbconvert_exporter": "python",
   "pygments_lexer": "ipython3",
   "version": "3.11.7"
  }
 },
 "nbformat": 4,
 "nbformat_minor": 2
}
