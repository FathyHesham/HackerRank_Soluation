{
 "cells": [
  {
   "cell_type": "markdown",
   "metadata": {},
   "source": [
    "# 014 - sWAP cASE\n",
    "## Problem\n",
    "\n",
    "You are given a string and your task is to swap cases. In other words, convert all lowercase letters to uppercase letters and vice versa.\n",
    "\n",
    "**For Example**\n",
    "\n",
    "```\n",
    "Www.HackerRank.com → wWW.hACKERrANK.COM\n",
    "Pythonist 2 → pYTHONIST 2\n",
    "```\n",
    "\n",
    "\n",
    "### Input Format\n",
    "\n",
    "A single line containing a string `S`.\n",
    "\n",
    "\n",
    "### Constraints\n",
    "\n",
    "0 < `len(S)` <= 1000\n",
    "\n",
    "\n",
    "### Output Format\n",
    "\n",
    "Print the modified string `S`.\n",
    "\n",
    "\n",
    "**Sample Input 0**\n",
    "\n",
    "```\n",
    "HackerRank.com presents \"Pythonist 2\".\n",
    "```\n",
    "\n",
    "**Sample Output 0**\n",
    "\n",
    "```\n",
    "hACKERrANK.COM PRESENTS \"pYTHONIST 2\".\n",
    "```\n",
    "\n",
    "\n",
    "<br>\n",
    "\n",
    "\n",
    "### Given Code\n",
    "\n",
    "```python\n",
    "def swap_case(s):\n",
    "    return\n",
    "\n",
    "if __name__ == '__main__':\n",
    "    s = input()\n",
    "    result = swap_case(s)\n",
    "    print(result)\n",
    "```"
   ]
  },
  {
   "cell_type": "code",
   "execution_count": 2,
   "metadata": {},
   "outputs": [
    {
     "name": "stdout",
     "output_type": "stream",
     "text": [
      "hACKERrANK.COM PRESENTS \"pYTHONIST 2\".\n"
     ]
    }
   ],
   "source": [
    "''' Solution 1 '''\n",
    "\n",
    "def swap_case(text):\n",
    "    text_swap = \"\"\n",
    "    for i in text:\n",
    "        if i.islower():\n",
    "            text_swap += i.upper()\n",
    "        elif i.isupper():\n",
    "            text_swap += i.lower()\n",
    "        else:\n",
    "            text_swap += i\n",
    "    return text_swap\n",
    "\n",
    "if __name__ == \"__main__\":\n",
    "    text = input()\n",
    "    result = swap_case(text)\n",
    "    print(result)\n",
    "        "
   ]
  },
  {
   "cell_type": "code",
   "execution_count": 3,
   "metadata": {},
   "outputs": [
    {
     "name": "stdout",
     "output_type": "stream",
     "text": [
      "hACKERrANK.COM PRESENTS \"pYTHONIST 2\".\n"
     ]
    }
   ],
   "source": [
    "''' Solution 2 '''\n",
    "\n",
    "def swap_case(text):\n",
    "    return text.swapcase()\n",
    "\n",
    "if __name__ == \"__main__\":\n",
    "    text = input()\n",
    "    result = swap_case(text)\n",
    "    print(result)\n"
   ]
  }
 ],
 "metadata": {
  "kernelspec": {
   "display_name": "base",
   "language": "python",
   "name": "python3"
  },
  "language_info": {
   "codemirror_mode": {
    "name": "ipython",
    "version": 3
   },
   "file_extension": ".py",
   "mimetype": "text/x-python",
   "name": "python",
   "nbconvert_exporter": "python",
   "pygments_lexer": "ipython3",
   "version": "3.11.7"
  }
 },
 "nbformat": 4,
 "nbformat_minor": 2
}
